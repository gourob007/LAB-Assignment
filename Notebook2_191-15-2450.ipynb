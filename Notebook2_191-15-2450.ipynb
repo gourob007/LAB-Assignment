{
 "cells": [
  {
   "cell_type": "markdown",
   "metadata": {
    "id": "RWwwRU2I2lI7"
   },
   "source": [
    "# **IF statement**\n",
    "\n",
    "---\n",
    "\n"
   ]
  },
  {
   "cell_type": "code",
   "execution_count": null,
   "metadata": {
    "colab": {
     "base_uri": "https://localhost:8080/",
     "height": 34
    },
    "id": "a-PKtStV2Nlk",
    "outputId": "70a7ba72-d44d-4332-e14d-f52b9309a083"
   },
   "outputs": [
    {
     "name": "stdout",
     "output_type": "stream",
     "text": [
      "passed\n"
     ]
    }
   ],
   "source": [
    "grade = 85\n",
    "if grade>=60:\n",
    "  print(\"passed\")"
   ]
  },
  {
   "cell_type": "markdown",
   "metadata": {
    "id": "mY8fFeAL6Ex_"
   },
   "source": [
    "# **If else statement**\n",
    "\n",
    "---\n",
    "\n"
   ]
  },
  {
   "cell_type": "code",
   "execution_count": null,
   "metadata": {
    "colab": {
     "base_uri": "https://localhost:8080/",
     "height": 34
    },
    "id": "E7pGGza858UI",
    "outputId": "c7530ca9-2ff5-4f4d-be1b-db08eb6e7e86"
   },
   "outputs": [
    {
     "name": "stdout",
     "output_type": "stream",
     "text": [
      "passed\n"
     ]
    }
   ],
   "source": [
    "grade =85\n",
    "if grade>=60:\n",
    "  print(\"passed\")\n",
    "else:\n",
    "  print(\"fail\")"
   ]
  },
  {
   "cell_type": "markdown",
   "metadata": {
    "id": "Ly8hCrTx7C5D"
   },
   "source": [
    "***Conditional*** expression"
   ]
  },
  {
   "cell_type": "code",
   "execution_count": null,
   "metadata": {
    "id": "qHW3mCaT7KOd"
   },
   "outputs": [],
   "source": [
    "result = ('Passed' if grade >= 60 else 'Failed')"
   ]
  },
  {
   "cell_type": "code",
   "execution_count": null,
   "metadata": {
    "colab": {
     "base_uri": "https://localhost:8080/",
     "height": 34
    },
    "id": "D2DzXtzT7OTb",
    "outputId": "faec14f6-653c-414b-858f-57707eb530a5"
   },
   "outputs": [
    {
     "name": "stdout",
     "output_type": "stream",
     "text": [
      "Passed\n"
     ]
    }
   ],
   "source": [
    "print(result)"
   ]
  },
  {
   "cell_type": "markdown",
   "metadata": {},
   "source": [
    "# IF/ELSE Statement"
   ]
  },
  {
   "cell_type": "code",
   "execution_count": null,
   "metadata": {
    "colab": {
     "base_uri": "https://localhost:8080/",
     "height": 34
    },
    "id": "8pfEXN_M6fJe",
    "outputId": "bd67134b-4154-44e9-f3ee-a801983ccf30"
   },
   "outputs": [
    {
     "name": "stdout",
     "output_type": "stream",
     "text": [
      "C\n"
     ]
    }
   ],
   "source": [
    "grade = 77\n",
    "\n",
    "if grade >= 90:\n",
    "    print('A')\n",
    "elif grade >= 80:\n",
    "    print('B')\n",
    "elif grade >= 70:\n",
    "    print('C')\n",
    "elif grade >= 60:\n",
    "    print('D')\n",
    "else:\n",
    "    print('F')"
   ]
  },
  {
   "cell_type": "markdown",
   "metadata": {
    "id": "Ge3NK7SC8orQ"
   },
   "source": [
    "# **While Statement**\n",
    "\n",
    "---\n",
    "\n"
   ]
  },
  {
   "cell_type": "code",
   "execution_count": null,
   "metadata": {
    "colab": {
     "base_uri": "https://localhost:8080/",
     "height": 34
    },
    "id": "m00-GUff73Lt",
    "outputId": "2aa2efd3-159a-479a-dfb4-dd6f20e9ad92"
   },
   "outputs": [
    {
     "name": "stdout",
     "output_type": "stream",
     "text": [
      "1 2 3 4 5 6 7 8 9 "
     ]
    }
   ],
   "source": [
    "number = 1\n",
    "\n",
    "while (number<10):\n",
    "  print(number, end=\" \") #print in same line with space using end =\" \"\n",
    "  number+=1"
   ]
  },
  {
   "cell_type": "markdown",
   "metadata": {
    "id": "7SZDrmd_9YL8"
   },
   "source": [
    "*while statement to find the first power of 3 larger than 50:*"
   ]
  },
  {
   "cell_type": "code",
   "execution_count": null,
   "metadata": {
    "id": "C2KqW8yC8-j2"
   },
   "outputs": [],
   "source": [
    "product = 3\n",
    "\n",
    "while product<=50:\n",
    "  product = product*3"
   ]
  },
  {
   "cell_type": "code",
   "execution_count": null,
   "metadata": {
    "colab": {
     "base_uri": "https://localhost:8080/",
     "height": 34
    },
    "id": "8ktBxeIN9jfR",
    "outputId": "edf7d18f-c103-4099-f13e-08bdeb28e1ff"
   },
   "outputs": [
    {
     "name": "stdout",
     "output_type": "stream",
     "text": [
      "81\n"
     ]
    }
   ],
   "source": [
    "print(product)"
   ]
  },
  {
   "cell_type": "markdown",
   "metadata": {
    "id": "zI_adojp93oI"
   },
   "source": [
    "# **For statement**\n",
    "\n",
    "---\n",
    "\n"
   ]
  },
  {
   "cell_type": "code",
   "execution_count": null,
   "metadata": {
    "colab": {
     "base_uri": "https://localhost:8080/",
     "height": 34
    },
    "id": "EJqNndZI9yzW",
    "outputId": "634130ac-3edc-4c10-b28f-18b08c9ee78d"
   },
   "outputs": [
    {
     "name": "stdout",
     "output_type": "stream",
     "text": [
      "p r o g r a m m i n g "
     ]
    }
   ],
   "source": [
    "for character in \"programming\":\n",
    "  print(character, end=\" \")"
   ]
  },
  {
   "cell_type": "markdown",
   "metadata": {
    "id": "k1qXd6Ur-eqQ"
   },
   "source": [
    "*Built in Range Function*"
   ]
  },
  {
   "cell_type": "markdown",
   "metadata": {
    "id": "kfTYsLmn-uwj"
   },
   "source": [
    "*Let’s use a for statement and the built-in range function to iterate precisely 10 times, displaying the values from 0 through 9:*"
   ]
  },
  {
   "cell_type": "code",
   "execution_count": null,
   "metadata": {
    "colab": {
     "base_uri": "https://localhost:8080/",
     "height": 34
    },
    "id": "Ag7GpFeM-UjP",
    "outputId": "837c5f60-8aee-4950-edfe-f7b933ca55a7"
   },
   "outputs": [
    {
     "name": "stdout",
     "output_type": "stream",
     "text": [
      "0 1 2 3 4 5 6 7 8 9 "
     ]
    }
   ],
   "source": [
    "for counter in range(10):\n",
    "  print(counter, end=\" \")"
   ]
  },
  {
   "cell_type": "markdown",
   "metadata": {
    "id": "cvPHvYq3_K1s"
   },
   "source": [
    "Use the range function and a for statement to calculate the total of the integers from 0 through 1,000,000.\n"
   ]
  },
  {
   "cell_type": "code",
   "execution_count": null,
   "metadata": {
    "colab": {
     "base_uri": "https://localhost:8080/",
     "height": 34
    },
    "id": "9T3eru-p-9Fo",
    "outputId": "6f20c3f1-0e52-4726-e066-407707091e79"
   },
   "outputs": [
    {
     "name": "stdout",
     "output_type": "stream",
     "text": [
      "500000500000\n"
     ]
    }
   ],
   "source": [
    "total = 0\n",
    "for number in range(1000001):\n",
    "  total = total+number\n",
    "\n",
    "print(total)"
   ]
  },
  {
   "cell_type": "markdown",
   "metadata": {
    "id": "3tsnt0yr_xDt"
   },
   "source": [
    "Function range also has two- and three-argument versions. As you’ve seen, range’s one argument version produces a sequence of consecutive integers from 0 up to, but not including, the argument’s value. Function range’s two-argument version produces a sequence of consecutive integers from its first argument’s value up to, but not including, the second argument’s value, as in:\n"
   ]
  },
  {
   "cell_type": "code",
   "execution_count": null,
   "metadata": {
    "colab": {
     "base_uri": "https://localhost:8080/",
     "height": 34
    },
    "id": "sd-DpDDw_g0u",
    "outputId": "fa7fc592-c2c8-4094-8902-db8cd70b469c"
   },
   "outputs": [
    {
     "name": "stdout",
     "output_type": "stream",
     "text": [
      "5 6 7 8 9 "
     ]
    }
   ],
   "source": [
    "for number in range(5,10):\n",
    "  print(number, end=\" \")"
   ]
  },
  {
   "cell_type": "markdown",
   "metadata": {
    "id": "DdS1ei_OAJfH"
   },
   "source": [
    "Function range’s three-argument version produces a sequence of integers from its first argument’s value up to, but not including, the second argument’s value, incrementing by the third argument’s value, which is known as the step:\n"
   ]
  },
  {
   "cell_type": "code",
   "execution_count": null,
   "metadata": {
    "colab": {
     "base_uri": "https://localhost:8080/",
     "height": 34
    },
    "id": "raqcsOM6ABv4",
    "outputId": "3e2926e9-4241-4889-8361-fb8185c7ace1"
   },
   "outputs": [
    {
     "name": "stdout",
     "output_type": "stream",
     "text": [
      "0 2 4 6 8 "
     ]
    }
   ],
   "source": [
    "for number in range(0,10,2):\n",
    "  print(number, end=\" \")"
   ]
  },
  {
   "cell_type": "markdown",
   "metadata": {
    "id": "4n0Wzf-MA4gL"
   },
   "source": [
    "If the third argument is negative, the sequence progresses from the first argument’s value down to, but not including the second argument’s value, decrementing by the third argument’s value, as in:\n"
   ]
  },
  {
   "cell_type": "code",
   "execution_count": null,
   "metadata": {
    "colab": {
     "base_uri": "https://localhost:8080/",
     "height": 34
    },
    "id": "M1KUsCkgAZmv",
    "outputId": "f640ac4e-b7c2-4e1a-c09d-f0726605eea3"
   },
   "outputs": [
    {
     "name": "stdout",
     "output_type": "stream",
     "text": [
      "10 8 6 4 2 "
     ]
    }
   ],
   "source": [
    "for number in range(10,0,-2):\n",
    "  print(number, end=\" \")"
   ]
  },
  {
   "cell_type": "markdown",
   "metadata": {
    "id": "EV15Fh_tBQbQ"
   },
   "source": [
    "*Number table print using range function*\n",
    "\n",
    "\n",
    "---\n",
    "\n",
    "\n",
    "\n",
    "---\n",
    "\n",
    "\n",
    "\n",
    "Take an input from user and print the number table"
   ]
  },
  {
   "cell_type": "code",
   "execution_count": null,
   "metadata": {
    "colab": {
     "base_uri": "https://localhost:8080/",
     "height": 34
    },
    "id": "Ebkd2RrwA-dg",
    "outputId": "c49fd769-15d5-4fed-b468-425d2cf28e6c"
   },
   "outputs": [
    {
     "name": "stdout",
     "output_type": "stream",
     "text": [
      "7\n"
     ]
    }
   ],
   "source": [
    "number =  int(input())\n"
   ]
  },
  {
   "cell_type": "code",
   "execution_count": null,
   "metadata": {
    "colab": {
     "base_uri": "https://localhost:8080/",
     "height": 187
    },
    "id": "hz-bXkJhB6jS",
    "outputId": "5b69fe9c-4753-491e-82c5-681e87f67d88"
   },
   "outputs": [
    {
     "name": "stdout",
     "output_type": "stream",
     "text": [
      "7 X 1 = 7\n",
      "7 X 2 = 14\n",
      "7 X 3 = 21\n",
      "7 X 4 = 28\n",
      "7 X 5 = 35\n",
      "7 X 6 = 42\n",
      "7 X 7 = 49\n",
      "7 X 8 = 56\n",
      "7 X 9 = 63\n",
      "7 X 10 = 70\n"
     ]
    }
   ],
   "source": [
    "for i in range(1,11):\n",
    "  print(number,\"X\",i,\"=\",number*i)"
   ]
  },
  {
   "cell_type": "markdown",
   "metadata": {
    "id": "PRuD4YmmCMiP"
   },
   "source": [
    "*Nested For Loop*\n",
    "\n",
    "\n",
    "---\n",
    "\n"
   ]
  },
  {
   "cell_type": "code",
   "execution_count": null,
   "metadata": {
    "colab": {
     "base_uri": "https://localhost:8080/",
     "height": 136
    },
    "id": "YR2gyY3GCHcP",
    "outputId": "f495fcd1-6195-4eb5-ec97-6ee4902671c7"
   },
   "outputs": [
    {
     "name": "stdout",
     "output_type": "stream",
     "text": [
      "[0|0] [0|1] [0|2] [0|3] [0|4] [0|5] [0|6] \n",
      "[1|1] [1|2] [1|3] [1|4] [1|5] [1|6] \n",
      "[2|2] [2|3] [2|4] [2|5] [2|6] \n",
      "[3|3] [3|4] [3|5] [3|6] \n",
      "[4|4] [4|5] [4|6] \n",
      "[5|5] [5|6] \n",
      "[6|6] \n"
     ]
    }
   ],
   "source": [
    "for left in range(7):\n",
    "    for right in range(left,7):\n",
    "        print(\"[\"+str(left)+\"|\"+str(right)+\"]\", end =\" \")\n",
    "    print()"
   ]
  },
  {
   "cell_type": "markdown",
   "metadata": {
    "id": "vFfUHE2SCzJA"
   },
   "source": [
    "Break statement"
   ]
  },
  {
   "cell_type": "code",
   "execution_count": null,
   "metadata": {
    "colab": {
     "base_uri": "https://localhost:8080/",
     "height": 34
    },
    "id": "382EUWgdCiIH",
    "outputId": "959957ce-92ec-4a69-a236-4cab7da741d6"
   },
   "outputs": [
    {
     "name": "stdout",
     "output_type": "stream",
     "text": [
      "0 1 2 3 4 "
     ]
    }
   ],
   "source": [
    "for number in range(10):\n",
    "  if  number==5:\n",
    "    break\n",
    "  print(number, end=\" \")\n",
    "    "
   ]
  },
  {
   "cell_type": "markdown",
   "metadata": {
    "id": "sqHMtufsDSbn"
   },
   "source": [
    "Continue statement"
   ]
  },
  {
   "cell_type": "code",
   "execution_count": null,
   "metadata": {
    "colab": {
     "base_uri": "https://localhost:8080/",
     "height": 34
    },
    "id": "85e79HleDQaJ",
    "outputId": "2c3b081b-7bcb-417d-f340-a821b009dc4e"
   },
   "outputs": [
    {
     "name": "stdout",
     "output_type": "stream",
     "text": [
      "0 1 2 3 4 6 7 8 9 "
     ]
    }
   ],
   "source": [
    "for number in range(10):\n",
    "  if  number==5:\n",
    "    continue\n",
    "  print(number, end=\" \")"
   ]
  },
  {
   "cell_type": "markdown",
   "metadata": {
    "id": "CkJzGaf1DU8X"
   },
   "source": [
    "# URI Basic Solution"
   ]
  },
  {
   "cell_type": "markdown",
   "metadata": {
    "id": "x4Ag7MRSFp7T"
   },
   "source": [
    "# Problem 1001"
   ]
  },
  {
   "cell_type": "code",
   "execution_count": 2,
   "metadata": {},
   "outputs": [
    {
     "name": "stdout",
     "output_type": "stream",
     "text": [
      "2\n",
      "2\n",
      "X = 4\n"
     ]
    }
   ],
   "source": [
    "a = int(input())\n",
    "b = int(input())\n",
    "x = a + b\n",
    "print(\"X = %i\"% x)"
   ]
  },
  {
   "cell_type": "markdown",
   "metadata": {},
   "source": [
    "# Problem 1002"
   ]
  },
  {
   "cell_type": "code",
   "execution_count": 3,
   "metadata": {},
   "outputs": [
    {
     "name": "stdout",
     "output_type": "stream",
     "text": [
      "3\n",
      "A=28.2743\n"
     ]
    }
   ],
   "source": [
    "r = float(input())\n",
    "pi = 3.14159\n",
    "a = pi * (pow(r,2))\n",
    "print(\"A=%.4f\"% a)"
   ]
  },
  {
   "cell_type": "markdown",
   "metadata": {},
   "source": [
    "# Problem 1007"
   ]
  },
  {
   "cell_type": "code",
   "execution_count": 6,
   "metadata": {},
   "outputs": [
    {
     "name": "stdout",
     "output_type": "stream",
     "text": [
      "2\n",
      "2\n",
      "2\n",
      "2\n",
      "DIFERENCA = 0\n"
     ]
    }
   ],
   "source": [
    "   a= int(input())\n",
    "   b= int(input())\n",
    "   c= int(input())\n",
    "   d= int(input())\n",
    "   difference=((a * b) - (c * d))\n",
    "   print(f'DIFERENCA = {difference}')"
   ]
  },
  {
   "cell_type": "markdown",
   "metadata": {},
   "source": [
    "# Problem 1020"
   ]
  },
  {
   "cell_type": "code",
   "execution_count": 7,
   "metadata": {},
   "outputs": [
    {
     "name": "stdout",
     "output_type": "stream",
     "text": [
      "2\n",
      "0 ano(s)\n",
      "0 mes(es)\n",
      "2 dia(s)\n"
     ]
    }
   ],
   "source": [
    "days = int(input())\n",
    "\n",
    "years = int(days/365)\n",
    "days -= years*365\n",
    "\n",
    "months = int(days/30)\n",
    "days -= months*30\n",
    "\n",
    "print(f'{years} ano(s)')\n",
    "print(f'{months} mes(es)')\n",
    "print(f'{days} dia(s)')"
   ]
  },
  {
   "cell_type": "code",
   "execution_count": null,
   "metadata": {},
   "outputs": [],
   "source": []
  }
 ],
 "metadata": {
  "colab": {
   "name": "Week_2_Control_structure.ipynb",
   "provenance": []
  },
  "kernelspec": {
   "display_name": "Python 3",
   "language": "python",
   "name": "python3"
  },
  "language_info": {
   "codemirror_mode": {
    "name": "ipython",
    "version": 3
   },
   "file_extension": ".py",
   "mimetype": "text/x-python",
   "name": "python",
   "nbconvert_exporter": "python",
   "pygments_lexer": "ipython3",
   "version": "3.8.5"
  }
 },
 "nbformat": 4,
 "nbformat_minor": 1
}
